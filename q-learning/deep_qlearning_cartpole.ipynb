{
  "nbformat": 4,
  "nbformat_minor": 0,
  "metadata": {
    "colab": {
      "name": "deep_qlearning_cartpole.ipynb",
      "version": "0.3.2",
      "provenance": [],
      "collapsed_sections": []
    },
    "kernelspec": {
      "name": "python3",
      "display_name": "Python 3"
    },
    "accelerator": "GPU"
  },
  "cells": [
    {
      "cell_type": "markdown",
      "metadata": {
        "id": "4f3CKqFUqL2-",
        "colab_type": "text",
        "slideshow": {
          "slide_type": "slide"
        }
      },
      "source": [
        "# CartPole-v1 with TensorFlow2"
      ]
    },
    {
      "cell_type": "markdown",
      "metadata": {
        "id": "MxiIKhP4E2Zr",
        "colab_type": "text"
      },
      "source": [
        "Problem [gym.openai.com/envs/CartPole-v1/](https://gym.openai.com/envs/CartPole-v1/)"
      ]
    },
    {
      "cell_type": "markdown",
      "metadata": {
        "id": "6TjLjL9IU80G",
        "colab_type": "text"
      },
      "source": [
        "## Setup"
      ]
    },
    {
      "cell_type": "code",
      "metadata": {
        "id": "qyW1JliPleN8",
        "colab_type": "code",
        "colab": {}
      },
      "source": [
        "import numpy as np\n",
        "import os\n",
        "import pandas as pd\n",
        "import random"
      ],
      "execution_count": 0,
      "outputs": []
    },
    {
      "cell_type": "code",
      "metadata": {
        "id": "fJ0jho8_lG_d",
        "colab_type": "code",
        "outputId": "c752af13-9884-466b-cf54-9e1311cd5681",
        "colab": {
          "base_uri": "https://localhost:8080/",
          "height": 34
        }
      },
      "source": [
        "try:\n",
        "    import gym\n",
        "except:\n",
        "    !pip install gym\n",
        "import gym\n",
        "print(gym.__version__)"
      ],
      "execution_count": 2,
      "outputs": [
        {
          "output_type": "stream",
          "text": [
            "0.10.11\n"
          ],
          "name": "stdout"
        }
      ]
    },
    {
      "cell_type": "code",
      "metadata": {
        "id": "rVFf5asKE2Zt",
        "colab_type": "code",
        "outputId": "2315f346-f50a-422a-a70d-e67119947697",
        "colab": {
          "base_uri": "https://localhost:8080/",
          "height": 34
        }
      },
      "source": [
        "try:\n",
        "    import tensorflow as tf\n",
        "except:\n",
        "    !pip install tensorflow==2.0.0-alpha0\n",
        "    import tensorflow as tf\n",
        "if tf.__version__[0] == \"1\":\n",
        "    !pip install tensorflow==2.0.0-alpha0\n",
        "    import tensorflow as tf\n",
        "print(tf.__version__)"
      ],
      "execution_count": 3,
      "outputs": [
        {
          "output_type": "stream",
          "text": [
            "2.0.0-alpha0\n"
          ],
          "name": "stdout"
        }
      ]
    },
    {
      "cell_type": "markdown",
      "metadata": {
        "id": "bFgBNujukM0D",
        "colab_type": "text"
      },
      "source": [
        "## Visualize gym environment - random action"
      ]
    },
    {
      "cell_type": "code",
      "metadata": {
        "id": "e3lojKPXqoFu",
        "colab_type": "code",
        "outputId": "0134ad87-57cb-4d68-e538-98ab3ba6d3cb",
        "colab": {
          "base_uri": "https://localhost:8080/",
          "height": 50
        }
      },
      "source": [
        "import gym\n",
        "env = gym.make(\"CartPole-v1\")\n",
        "no_actions = env.action_space.n\n",
        "no_observations = env.observation_space.shape[0]\n",
        "print(no_actions)\n",
        "print(no_observations)"
      ],
      "execution_count": 4,
      "outputs": [
        {
          "output_type": "stream",
          "text": [
            "2\n",
            "4\n"
          ],
          "name": "stdout"
        }
      ]
    },
    {
      "cell_type": "markdown",
      "metadata": {
        "id": "YI3BkmTNrWmE",
        "colab_type": "text"
      },
      "source": [
        "Action and observation interpretations: [github.com/openai/gym/blob/master/gym/envs/classic_control/cartpole.py](https://github.com/openai/gym/blob/master/gym/envs/classic_control/cartpole.py)"
      ]
    },
    {
      "cell_type": "code",
      "metadata": {
        "id": "4jXkDdLzjoG0",
        "colab_type": "code",
        "outputId": "a96ec45f-b1f5-4935-f5df-6280898cf8a8",
        "colab": {
          "base_uri": "https://localhost:8080/",
          "height": 34
        }
      },
      "source": [
        "observation = env.reset()\n",
        "for t in range(100):\n",
        "#     env.render()\n",
        "    action = env.action_space.sample()\n",
        "    observation, reward, done, info = env.step(action)\n",
        "    if done:\n",
        "        print(\"Episode finished after {} timesteps\".format(t+1))\n",
        "        break\n",
        "env.close()"
      ],
      "execution_count": 5,
      "outputs": [
        {
          "output_type": "stream",
          "text": [
            "Episode finished after 13 timesteps\n"
          ],
          "name": "stdout"
        }
      ]
    },
    {
      "cell_type": "markdown",
      "metadata": {
        "id": "kLRp-BTKba1Q",
        "colab_type": "text"
      },
      "source": [
        "## Train with TF2, Keras"
      ]
    },
    {
      "cell_type": "code",
      "metadata": {
        "id": "w4q3b55TstRZ",
        "colab_type": "code",
        "colab": {}
      },
      "source": [
        "model = tf.keras.Sequential()\n",
        "model.add(tf.keras.layers.Dense(\n",
        "    24, \n",
        "    activation=\"relu\", \n",
        "    input_shape=(no_observations,)))\n",
        "model.add(tf.keras.layers.Dense(24, activation=\"relu\"))\n",
        "model.add(tf.keras.layers.Dense(no_actions, activation=\"linear\"))\n",
        "model.compile(loss=\"mse\", optimizer=tf.keras.optimizers.Adam(lr=0.001))"
      ],
      "execution_count": 0,
      "outputs": []
    },
    {
      "cell_type": "code",
      "metadata": {
        "id": "vO9CMi395C6I",
        "colab_type": "code",
        "colab": {}
      },
      "source": [
        "def get_best_action(state):\n",
        "    state_df = pd.DataFrame(columns=[\"cart_pos\", \"cart_vel\", \"pole_ang\", \"pole_vel\"])\n",
        "    state_df.loc[len(state_df),:] = state\n",
        "    q = model.predict(state_df.values, batch_size=1)\n",
        "    action = pd.Series(q[0]).idxmax()\n",
        "    return action, q"
      ],
      "execution_count": 0,
      "outputs": []
    },
    {
      "cell_type": "code",
      "metadata": {
        "id": "-Fc6Usre0IrH",
        "colab_type": "code",
        "colab": {}
      },
      "source": [
        "GAMMA = 0.95\n",
        "def fit_model(state, action, reward, next_state, done):\n",
        "    state_action, state_q = get_best_action(state)\n",
        "    next_state_action, next_state_q = get_best_action(next_state)\n",
        "    q_update = reward\n",
        "    if not done:\n",
        "        q_update = (reward + GAMMA * next_state_q[0][next_state_action])\n",
        "    state_q[0][action] = q_update\n",
        "    state_df = pd.DataFrame(columns=[\"cart_pos\", \"cart_vel\", \"pole_ang\", \"pole_vel\"])\n",
        "    state_df.loc[len(state_df),:] = state\n",
        "    model.fit(state_df.values, state_q, epochs=1, batch_size=1)"
      ],
      "execution_count": 0,
      "outputs": []
    },
    {
      "cell_type": "code",
      "metadata": {
        "id": "EeN7OaI3qVJj",
        "colab_type": "code",
        "colab": {}
      },
      "source": [
        "%%capture\n",
        "cap_T = 1500\n",
        "for ep in range(cap_T):\n",
        "    state = env.reset()\n",
        "    for t in range(500):\n",
        "#         env.render()\n",
        "        if random.random() < (1 - ep / cap_T):\n",
        "            action = env.action_space.sample()\n",
        "        else:\n",
        "            action, q = get_best_action(state)\n",
        "        next_state, reward, done, info = env.step(action)\n",
        "        fit_model(state, action, reward, next_state, done)\n",
        "        state = next_state\n",
        "        if done:\n",
        "            print(\"Episode finished after {} timesteps\".format(t+1))\n",
        "            break"
      ],
      "execution_count": 0,
      "outputs": []
    },
    {
      "cell_type": "markdown",
      "metadata": {
        "id": "0mHs8qEZADE-",
        "colab_type": "text"
      },
      "source": [
        "## Test with TF2, Keras"
      ]
    },
    {
      "cell_type": "code",
      "metadata": {
        "id": "GFzu3W5sw5F2",
        "colab_type": "code",
        "outputId": "6b24d62b-e478-406b-c247-36bede236077",
        "colab": {
          "base_uri": "https://localhost:8080/",
          "height": 185
        }
      },
      "source": [
        "# env.render()\n",
        "for ep in range(10):\n",
        "    state = env.reset()\n",
        "    for t in range(1000):\n",
        "        action, q = get_best_action(state)\n",
        "        next_state, reward, done, info = env.step(action)\n",
        "        if done:\n",
        "            print(\"Episode {} finished after {} timesteps\".format(ep, t))\n",
        "            break\n",
        "        state = next_state\n",
        "env.close()"
      ],
      "execution_count": 10,
      "outputs": [
        {
          "output_type": "stream",
          "text": [
            "Episode 0 finished after 99 timesteps\n",
            "Episode 1 finished after 101 timesteps\n",
            "Episode 2 finished after 103 timesteps\n",
            "Episode 3 finished after 104 timesteps\n",
            "Episode 4 finished after 99 timesteps\n",
            "Episode 5 finished after 103 timesteps\n",
            "Episode 6 finished after 104 timesteps\n",
            "Episode 7 finished after 106 timesteps\n",
            "Episode 8 finished after 102 timesteps\n",
            "Episode 9 finished after 105 timesteps\n"
          ],
          "name": "stdout"
        }
      ]
    },
    {
      "cell_type": "code",
      "metadata": {
        "id": "AvxjCfl6pnTc",
        "colab_type": "code",
        "colab": {}
      },
      "source": [
        ""
      ],
      "execution_count": 0,
      "outputs": []
    }
  ]
}